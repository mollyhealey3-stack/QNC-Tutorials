{
  "nbformat": 4,
  "nbformat_minor": 0,
  "metadata": {
    "colab": {
      "provenance": [],
      "authorship_tag": "ABX9TyOWuKM8c3PSDINqgtq6jnrM",
      "include_colab_link": true
    },
    "kernelspec": {
      "name": "python3",
      "display_name": "Python 3"
    },
    "language_info": {
      "name": "python"
    }
  },
  "cells": [
    {
      "cell_type": "markdown",
      "metadata": {
        "id": "view-in-github",
        "colab_type": "text"
      },
      "source": [
        "<a href=\"https://colab.research.google.com/github/mollyhealey3-stack/QNC-Tutorials/blob/main/multiple_comparisons.ipynb\" target=\"_parent\"><img src=\"https://colab.research.google.com/assets/colab-badge.svg\" alt=\"Open In Colab\"/></a>"
      ]
    },
    {
      "cell_type": "code",
      "source": [
        "import numpy as np\n",
        "import scipy.stats as stats\n",
        "import statsmodels.stats.multitest as smm\n",
        "\n",
        "# Set parameters\n",
        "n_tests = 1000\n",
        "sample_size = 30\n",
        "alpha = 0.05\n",
        "\n",
        "def simulate_ttests(mean1, mean2, n_tests, sample_size):\n",
        "    p_values = []\n",
        "    for _ in range(n_tests):\n",
        "        group1 = np.random.normal(mean1, 1, sample_size)\n",
        "        group2 = np.random.normal(mean2, 1, sample_size)\n",
        "        _, p = stats.ttest_ind(group1, group2)\n",
        "        p_values.append(p)\n",
        "    return np.array(p_values)\n",
        "\n",
        "# PART 1: Null is true (mean1 = mean2 = 0)\n",
        "pvals_null = simulate_ttests(0, 0, n_tests, sample_size)\n",
        "\n",
        "# Bonferroni correction\n",
        "bonf_corrected_null = np.minimum(pvals_null * n_tests, 1.0)\n",
        "significant_bonf_null = np.sum(bonf_corrected_null < alpha)\n",
        "\n",
        "# Benjamini-Hochberg correction\n",
        "rejected_bh_null, bh_corrected_null, _, _ = smm.multipletests(pvals_null, alpha=alpha, method='fdr_bh')\n",
        "significant_bh_null = np.sum(rejected_bh_null)\n",
        "\n",
        "# PART 2: Real difference (mean1 = 1, mean2 = 2)\n",
        "pvals_diff = simulate_ttests(1, 2, n_tests, sample_size)\n",
        "\n",
        "# Bonferroni correction\n",
        "bonf_corrected_diff = np.minimum(pvals_diff * n_tests, 1.0)\n",
        "significant_bonf_diff = np.sum(bonf_corrected_diff < alpha)\n",
        "\n",
        "# Benjamini-Hochberg correction\n",
        "rejected_bh_diff, bh_corrected_diff, _, _ = smm.multipletests(pvals_diff, alpha=alpha, method='fdr_bh')\n",
        "significant_bh_diff = np.sum(rejected_bh_diff)\n",
        "\n",
        "# Summary of results\n",
        "print(\"== Null Case (mean1 = mean2 = 0) ==\")\n",
        "print(f\"Raw p < 0.05: {np.sum(pvals_null < 0.05)}\")\n",
        "print(f\"Bonferroni significant: {significant_bonf_null}\")\n",
        "print(f\"Benjamini-Hochberg significant: {significant_bh_null}\")\n",
        "\n",
        "print(\"\\n== Real Difference (mean1 = 1, mean2 = 2) ==\")\n",
        "print(f\"Raw p < 0.05: {np.sum(pvals_diff < 0.05)}\")\n",
        "print(f\"Bonferroni significant: {significant_bonf_diff}\")\n",
        "print(f\"Benjamini-Hochberg significant: {significant_bh_diff}\")\n"
      ],
      "metadata": {
        "colab": {
          "base_uri": "https://localhost:8080/"
        },
        "id": "5SCyCJPqQc2M",
        "outputId": "f459f659-c229-4d35-b695-2db8ba242955"
      },
      "execution_count": 4,
      "outputs": [
        {
          "output_type": "stream",
          "name": "stdout",
          "text": [
            "== Null Case (mean1 = mean2 = 0) ==\n",
            "Raw p < 0.05: 54\n",
            "Bonferroni significant: 0\n",
            "Benjamini-Hochberg significant: 0\n",
            "\n",
            "== Real Difference (mean1 = 1, mean2 = 2) ==\n",
            "Raw p < 0.05: 966\n",
            "Bonferroni significant: 343\n",
            "Benjamini-Hochberg significant: 965\n"
          ]
        }
      ]
    },
    {
      "cell_type": "markdown",
      "source": [
        "bonferroni rejects more true-positives"
      ],
      "metadata": {
        "id": "nS6k5PxsO8nD"
      }
    }
  ]
}