{
  "cells": [
    {
      "cell_type": "markdown",
      "metadata": {
        "id": "UfBh576iKGWh"
      },
      "source": [
        "[![Open In Colab](https://colab.research.google.com/assets/colab-badge.svg)](https://colab.research.google.com/github/PennNGG/Quantitative-Neuroscience/blob/master/Probability%20Distributions/Python/Binomial.ipynb)"
      ]
    },
    {
      "cell_type": "markdown",
      "metadata": {
        "id": "pKIiY6p3GRFq"
      },
      "source": [
        "# Definition"
      ]
    },
    {
      "cell_type": "markdown",
      "metadata": {
        "id": "x7VmLUr5GTNw"
      },
      "source": [
        "The binomial distribution is a discrete probability distribution that describes the probability of obtaining exactly k successes out of n Bernoulli trials, which are individual binary outcomes that each have a success probability of p. For example, if you flip a coin 10 times, what is the probability that it will come up heads 0, 1, 2, ... 10 times?\n",
        "\n",
        "Mathematically, this distribution defines the probability of obtaining *k* successes in *n* trials given a constant probability of success *p* on each trial, which is defined as:\n",
        "\n",
        "[1] $P(X=k\\: successes)=\\left ( \\frac{n}{k} \\right )p^{k}\\left ( 1-p \\right )^{n-k}$\n",
        "\n",
        "for *k* = 0, 1, 2, ... , *n*, and where\n",
        "\n",
        "$\\left ( \\frac{n}{k} \\right )=\\frac{n!}{k!\\left ( n-k \\right )!}$\n",
        "\n",
        " is called the \"binomial coefficient\" and is pronounced \"[n-choose-k](https://www.hackmath.net/en/calculator/n-choose-k)\""
      ]
    },
    {
      "cell_type": "markdown",
      "metadata": {
        "id": "bkVu6eGKIIiQ"
      },
      "source": [
        "# Getting Started with Code\n"
      ]
    },
    {
      "cell_type": "markdown",
      "metadata": {
        "id": "gxusMZ-UN_6m"
      },
      "source": [
        "Matlab code is found in the [NGG Statistics GitHub Repository](https://github.com/PennNGG/Statistics.git) under \"Probability Distributions/Binomial.m\".\n",
        "\n",
        "Python code is included below. First run the code cell just below to make sure all of the required Python modules are loaded, then you can run the other cell(s)."
      ]
    },
    {
      "cell_type": "code",
      "execution_count": null,
      "metadata": {
        "id": "W633IbbRIdwa"
      },
      "outputs": [],
      "source": [
        "import numpy as np\n",
        "import random as rnd\n",
        "import collections\n",
        "import matplotlib.pyplot as plt\n",
        "import time\n",
        "import scipy.stats as st\n",
        "\n",
        "from scipy.stats import bernoulli, binom, poisson, chi2\n",
        "from IPython.display import clear_output\n",
        "from operator import itemgetter\n",
        "from statsmodels.stats import proportion\n",
        "\n",
        "from numpy import matlib"
      ]
    },
    {
      "cell_type": "markdown",
      "metadata": {
        "id": "u3yXPCmMH2CH"
      },
      "source": [
        "# Tutorial"
      ]
    },
    {
      "cell_type": "code",
      "execution_count": null,
      "metadata": {
        "colab": {
          "base_uri": "https://localhost:8080/"
        },
        "id": "4ESB1xpmItGp",
        "outputId": "0dd49b33-f7a5-4a75-cea6-503746b10e39"
      },
      "outputs": [
        {
          "name": "stdout",
          "output_type": "stream",
          "text": [
            "697 successes out of 1000 trials, simulated p = 0.7000, empirical p = 0.6970\n"
          ]
        }
      ],
      "source": [
        "# Choose some values for the parameters n and p\n",
        "p = 0.7\n",
        "n = 1000\n",
        "\n",
        "# Generate random picks. Note that this is as if we generated Bernoulli trials\n",
        "#   as above, but then just counted the successes in each \"experiment\"\n",
        "num_successes = binom.rvs(n,p) # uses the \"random variates\" method (rvs) of binom\n",
        "\n",
        "# Print out the results\n",
        "print(f'{num_successes} successes out of {n} trials, simulated p = {p:.4f}, empirical p = {num_successes/n:.4f}')"
      ]
    },
    {
      "cell_type": "code",
      "execution_count": null,
      "metadata": {
        "colab": {
          "base_uri": "https://localhost:8080/",
          "height": 295
        },
        "id": "AWJMhBIZIuFU",
        "outputId": "7ebf91ba-1b28-4fd3-ef17-cb1db4bd3d4f"
      },
      "outputs": [
        {
          "data": {
            "image/png": "[encoded data removed]",
            "text/plain": [
              "<Figure size 432x288 with 2 Axes>"
            ]
          },
          "metadata": {
            "needs_background": "light"
          },
          "output_type": "display_data"
        }
      ],
      "source": [
        "# The full probability distribution describes the probabilty of obtaining each\n",
        "#   possible number of successes (k), given n and p. If we set n=10, the the\n",
        "#   possible values of k are 0, 1, ..., 10. Now we use binom.rvs to simulate\n",
        "#   many different picks to get a full distribution\n",
        "p = 0.7\n",
        "n = 10                      # number of \"trials\" per \"experiment\"\n",
        "num_experiments = 1000;     # number of \"experiments\"\n",
        "outcomes = binom.rvs(n,p,size=num_experiments)\n",
        "\n",
        "# Show a bar plot (histogram) of all of the possible outcomes\n",
        "counts = collections.Counter(outcomes)\n",
        "plt.subplot(211)\n",
        "plt.bar(counts.keys(), counts.values())\n",
        "plt.xlim([-1, n+1])\n",
        "plt.title(f'Binomial distribution, n={n}, p={p:.2f}, {num_experiments} simulations')\n",
        "plt.ylabel('Count')\n",
        "\n",
        "# Show a normalized version that is a pdf. Here counts (the x-axis of the histogram)\n",
        "#   is a DISCRETE variable, so we just have to add up the values\n",
        "normalized_counts = {k: v / total for total in (sum(counts.values()),) for k, v in counts.items()}\n",
        "plt.subplot(212)\n",
        "plt.bar(normalized_counts.keys(), normalized_counts.values())\n",
        "plt.xlim([-1, n+1])\n",
        "plt.xlabel(f'Probability of success in {n} tries')\n",
        "plt.ylabel('Probability')\n",
        "plt.subplots_adjust(hspace=0.3)"
      ]
    },
    {
      "cell_type": "code",
      "execution_count": null,
      "metadata": {
        "colab": {
          "base_uri": "https://localhost:8080/",
          "height": 295
        },
        "id": "XxTbmZOSJEl8",
        "outputId": "cb4e6339-a209-4955-c8ae-5fe38a3cdee0"
      },
      "outputs": [
        {
          "data": {
            "image/png": "[encoded data removed]",
            "text/plain": [
              "<Figure size 432x288 with 1 Axes>"
            ]
          },
          "metadata": {
            "needs_background": "light"
          },
          "output_type": "display_data"
        }
      ],
      "source": [
        "# Now let's make a fun animation showing different values of p and N.\n",
        "#   Note that, of course, the more picks you make of the random variable\n",
        "#   (higher N), the more closely the outcomes (the \"samples\") match the true\n",
        "#   distribution.\n",
        "n=10\n",
        "xs = range(0, n)\n",
        "f = plt.figure()\n",
        "for p in np.arange(0, 1, 0.1):\n",
        "    for N in np.round(np.logspace(1,5,10)):\n",
        "\n",
        "        # Get the true binomial pdf\n",
        "        Y = binom.pmf(xs,n,p)\n",
        "\n",
        "        # Get the random picks, make histogram and normalize\n",
        "        counts = collections.Counter(binom.rvs(n,p,size=int(N)))\n",
        "        normalized_counts = {k: v / total for total in (sum(counts.values()),) for k, v in counts.items()}\n",
        "\n",
        "        # Show both\n",
        "        plt.bar(normalized_counts.keys(), normalized_counts.values())\n",
        "        plt.plot(xs, Y, 'ro-', linewidth=2, markersize=10)\n",
        "\n",
        "        # Labels, etc\n",
        "        plt.title(f'p={p:.1f}, n={n}, N={N:.2f}')\n",
        "        plt.xlabel(f'Number of successes in {n} tries')\n",
        "        plt.ylabel('Probability')\n",
        "        plt.axis([-1, n+1, 0, 0.45])\n",
        "        plt.legend(('Theoretical', 'Simulated'))\n",
        "        plt.show()\n",
        "\n",
        "        # Wait\n",
        "        time.sleep(0.1)\n",
        "\n",
        "        # Clear for next plot\n",
        "        clear_output(wait=True)\n",
        "\n"
      ]
    },
    {
      "cell_type": "code",
      "execution_count": null,
      "metadata": {
        "colab": {
          "base_uri": "https://localhost:8080/",
          "height": 312
        },
        "id": "kUAJ6LCyJbRN",
        "outputId": "a0b3758e-166e-4843-909c-92a5e5a68d10"
      },
      "outputs": [
        {
          "data": {
            "text/plain": [
              "<matplotlib.legend.Legend at 0x7f9c1930eed0>"
            ]
          },
          "execution_count": 6,
          "metadata": {},
          "output_type": "execute_result"
        },
        {
          "data": {
            "image/png": "[encoded data removed]",
            "text/plain": [
              "<Figure size 432x288 with 1 Axes>"
            ]
          },
          "metadata": {
            "needs_background": "light"
          },
          "output_type": "display_data"
        }
      ],
      "source": [
        "# The cumulative distribution function is just the proability of obtaining an\n",
        "#   outcome that is equal to OR LESS THAN a particular value.\n",
        "p = 0.7\n",
        "n = 10                      # number of \"trials\" per \"experiment\"\n",
        "num_experiments = 1000;     # number of \"experiments\"\n",
        "outcomes = binom.rvs(n,p,size=num_experiments)\n",
        "\n",
        "# Make histogram\n",
        "counts = collections.Counter(outcomes)\n",
        "\n",
        "# Unzip keys from values in a sorted order\n",
        "keys, values = zip(*sorted(counts.items(), key=itemgetter(0)))\n",
        "\n",
        "# Compute the cumulative sum of the counts normalized by the total counts (so\n",
        "#   it is a probability function and not just a histogram -- note that the final\n",
        "#   value in the cdf should equal 1 because every value should be equal to or\n",
        "#   less than that value).\n",
        "total = sum(values)\n",
        "cumulative_ps = [x/total for x in np.cumsum(values)]\n",
        "\n",
        "# Plot as a bar graph\n",
        "plt.bar(keys, cumulative_ps)\n",
        "\n",
        "# Compare it to the real binomial cumulative distribution, which we find\n",
        "#   using binom.cdf\n",
        "Y = binom.cdf(keys,n,p)\n",
        "plt.plot(keys, Y, 'ro-', linewidth=2, markersize=10)\n",
        "\n",
        "# Labels, etc\n",
        "plt.title(f'Cumulative binomial distribution, p={p:.1f}, n={n}, N={num_experiments}')\n",
        "plt.xlabel(f'Number of successes in {n} tries')\n",
        "plt.ylabel('Cumulative probability')\n",
        "plt.legend(('Theoretical', 'Simulated'))"
      ]
    },
    {
      "cell_type": "markdown",
      "metadata": {
        "id": "NPyYR5dgJ4Q9"
      },
      "source": [
        "# Neuroscience Example: Quantal Release"
      ]
    },
    {
      "cell_type": "markdown",
      "metadata": {
        "id": "Egvzk_qLKOYl"
      },
      "source": [
        "From: Johnson, E.W., and Wernig, A. (1971). [The binomial nature of transmitter release at the crayfish neuromuscular junction](https://www.ncbi.nlm.nih.gov/pmc/articles/PMC1331610/). J Physiol 218, 757-767.\n",
        "\n",
        "Classic studies by [Bernard Katz and colleagues](https://www.ncbi.nlm.nih.gov/pmc/articles/PMC2151334/) indicated that chemical neurotransmitters are released from presynaptic nerve terminals in discrete quanta, or packets, with a relatively constant release probability. A straightforward implication of this idea is that the release statistics (i.e., the distribution of the number of quanta that are actually released in response to a given event like an action potential reaching the presynaptic nerve terminal) should follow a binomial distribution. As stated by Johnson and Wernig:\n",
        "\n",
        "\"If the average probability of release is constant, then it follows from the hypothesis that the relative frequency of 0, 1, 2, 3, . . . quantal releases in a series of trials is given by the successive terms in the binomial expansion $(p + q)^n$, where *q*=1–*p* is the average probability that a quantum will not be released. In a given trial, the probability that *x* quanta will be released (*px*) is given by the binomial term\" [i.e., Eq. 1, above, but substitute *x* for *k*].\n",
        "\n",
        "In other words, if there are *n* available quanta in a presynaptic terminal, and each is released with probability *p*, then the number of quanta that are actually released should follow a binomial distribution with parameters *n* and *p*.\n",
        "\n",
        "Answers to the exercises below will be found [here](https://github.com/PennNGG/Quantitative-Neuroscience/tree/master/Answers%20to%20Exercises/Python) after the due date."
      ]
    },
    {
      "cell_type": "markdown",
      "metadata": {
        "id": "VveIEEiyLUSk"
      },
      "source": [
        "## Exercise 1\n",
        "Assume that there are 10 quanta available in a nerve terminal, and for a given release event each is released with a probability of 0.2. For one such event, what is the probability that 0, 1, 2, 3, 4, 5, 6, 7, 8, 9, or 10 quanta will be released?"
      ]
    },
    {
      "cell_type": "code",
      "source": [
        "from math import comb\n",
        "\n",
        "# Given values\n",
        "n = 10          # quanta\n",
        "p = 0.2         # release probability\n",
        "\n",
        "# Calculate and print probabilities for k = 0 to 10\n",
        "for k in range(n + 1):\n",
        "    prob = comb(n, k) * (p ** k) * ((1 - p) ** (n - k))\n",
        "    print(f\"P(X = {k}) = {prob:.6f}\")"
      ],
      "metadata": {
        "id": "wcxg7ZkgL040",
        "outputId": "c96d303d-f5b6-4860-8424-556adb44bad2",
        "colab": {
          "base_uri": "https://localhost:8080/"
        }
      },
      "execution_count": 1,
      "outputs": [
        {
          "output_type": "stream",
          "name": "stdout",
          "text": [
            "P(X = 0) = 0.107374\n",
            "P(X = 1) = 0.268435\n",
            "P(X = 2) = 0.301990\n",
            "P(X = 3) = 0.201327\n",
            "P(X = 4) = 0.088080\n",
            "P(X = 5) = 0.026424\n",
            "P(X = 6) = 0.005505\n",
            "P(X = 7) = 0.000786\n",
            "P(X = 8) = 0.000074\n",
            "P(X = 9) = 0.000004\n",
            "P(X = 10) = 0.000000\n"
          ]
        }
      ]
    },
    {
      "cell_type": "markdown",
      "metadata": {
        "id": "eG7Kvl5pL4jf"
      },
      "source": [
        "## Exercise 2\n",
        "Let's say you know that a given nerve terminal contains exactly 14 quanta available for release. You have read in the literature that the release probability of these quanta is low, say 0.1. To assess whether this value is reasonable, you run a simple experiment: activate the nerve and measure the number of quanta that are released. The result is 8 quanta. What is the probability that you would get this result (8 quanta) if the true probability of release really was 0.1? What about if the true release probability was much higher; say, 0.7? What about for each decile of release probability (0.1, 0.2, ... 1.0)? Which value of release probability did you determine to be the most probable, given your measurement?\n",
        "\n",
        "Note: here you are computing a likelihood function: a function describing how the value of the conditional probability *p*(*data* | *parameters*) changes when you hold your data fixed to the value(s) you measured and vary the value(s) of the parameter(s) of, in this case, the binomial distribution. Because you are varying the parameters and not the data, the values of the function are not expected to sum to one (e.g., you can have numerous parameters that have a very high probability of producing the given data) and thus this function is not a probability distribution (see [here](https://www.psychologicalscience.org/observer/bayes-for-beginners-probability-and-likelihood) for an extended discussion). The maximum value of this function is called the maximum likelihood."
      ]
    },
    {
      "cell_type": "code",
      "source": [
        "import numpy as np\n",
        "from scipy.stats import binom\n",
        "\n",
        "n = 14          # total quanta\n",
        "k = 8           # observed quanta released\n",
        "\n",
        "release_probs = np.arange(0.1, 1.1, 0.1)\n",
        "\n",
        "max_likelihood = 0\n",
        "best_p = None\n",
        "\n",
        "print(\"p_release  Likelihood P(X=8)\")\n",
        "\n",
        "for p in release_probs:\n",
        "    likelihood = binom.pmf(k, n, p)\n",
        "    print(f\"{p:.1f}       {likelihood:.8f}\")\n",
        "    if likelihood > max_likelihood:\n",
        "        max_likelihood = likelihood\n",
        "        best_p = p\n",
        "\n",
        "print(f\"\\nMaximum likelihood occurs at release probability = {best_p:.1f}\")\n"
      ],
      "metadata": {
        "id": "U-d_ho8IMptT",
        "outputId": "81f51898-896b-4ac0-ff69-40c298d278fb",
        "colab": {
          "base_uri": "https://localhost:8080/"
        }
      },
      "execution_count": 2,
      "outputs": [
        {
          "output_type": "stream",
          "name": "stdout",
          "text": [
            "p_release  Likelihood P(X=8)\n",
            "0.1       0.00001596\n",
            "0.2       0.00201528\n",
            "0.3       0.02318001\n",
            "0.4       0.09182116\n",
            "0.5       0.18328857\n",
            "0.6       0.20659761\n",
            "0.7       0.12620227\n",
            "0.8       0.03224447\n",
            "0.9       0.00129269\n",
            "1.0       0.00000000\n",
            "\n",
            "Maximum likelihood occurs at release probability = 0.6\n"
          ]
        }
      ]
    },
    {
      "cell_type": "markdown",
      "metadata": {
        "id": "-INGaYFtM-Cp"
      },
      "source": [
        "## Exercise 3\n",
        "\n",
        "Not feeling convinced by your single experiment (good scientist!), you repeat it under identical conditions. This time you measure 5 quanta that were released. Your sample size has now doubled, to two measurements. You now want to take into account both measurements when you assess the likelihoods of different possible values of the underlying release probability. To do so, assume that the two measurements in this sample are independent of one another; that is, the value of each result had no bearing on the other. In this case, the total likelihood is simply the product of the likelihoods associated with each separate measurement. It is also typical to compute the logarithm of each likelihood and take their sum, which is often more convenient. What are the values of the total likelihood and total log-likelihood in this example, if we assume that the true release probability is 0.1?\n",
        "\n",
        "Of course, knowing those values of the likelihood and log-likelihood is not particularly useful until you can compare them to the values computed for other possible values for the release probability, so you can determine which value of release probability is most likely, given the data. Therefore, compute the full likelihood and log-likelihood functions using deciles of release probability between 0 and 1. What is the maximum value? Can you improve your estimate by computing the functions at a higher resolution? How does the estimate improve as you increase the sample size?"
      ]
    },
    {
      "cell_type": "code",
      "source": [
        "import numpy as np\n",
        "from scipy.stats import binom\n",
        "\n",
        "# Given:\n",
        "n = 14                        # total quanta per trial\n",
        "observations = [8, 5]         # observed released quanta in two independent measurements\n",
        "\n",
        "# Function to calculate total likelihood and log-likelihood for a given p\n",
        "def total_likelihood_loglikelihood(p, n, observations):\n",
        "    likelihoods = [binom.pmf(k, n, p) for k in observations]\n",
        "    total_likelihood = np.prod(likelihoods)\n",
        "    total_log_likelihood = np.sum(np.log(likelihoods))\n",
        "    return total_likelihood, total_log_likelihood\n",
        "\n",
        "# Search over release probabilities from 0 to 1 in steps (deciles)\n",
        "release_probs = np.linspace(0, 1, 11)\n",
        "\n",
        "print(\"p_release  Total Likelihood    Total Log-Likelihood\")\n",
        "\n",
        "max_likelihood = 0\n",
        "best_p_likelihood = None\n",
        "\n",
        "max_log_likelihood = -np.inf\n",
        "best_p_loglikelihood = None\n",
        "\n",
        "for p in release_probs:\n",
        "    # avoid log(0) errors by skipping p=0 and p=1 exactly\n",
        "    if p == 0 or p == 1:\n",
        "        continue\n",
        "\n",
        "    total_lik, total_log_lik = total_likelihood_loglikelihood(p, n, observations)\n",
        "    print(f\"{p:.2f}       {total_lik:.10f}       {total_log_lik:.4f}\")\n",
        "\n",
        "    if total_lik > max_likelihood:\n",
        "        max_likelihood = total_lik\n",
        "        best_p_likelihood = p\n",
        "\n",
        "    if total_log_lik > max_log_likelihood:\n",
        "        max_log_likelihood = total_log_lik\n",
        "        best_p_loglikelihood = p\n",
        "\n",
        "print(f\"\\nMax likelihood at p = {best_p_likelihood:.2f} with likelihood = {max_likelihood:.10f}\")\n",
        "print(f\"Max log-likelihood at p = {best_p_loglikelihood:.2f} with log-likelihood = {max_log_likelihood:.4f}\")\n",
        "\n",
        "# Now increase resolution to improve estimate\n",
        "release_probs_fine = np.linspace(0.01, 0.99, 99)\n",
        "\n",
        "max_log_likelihood_fine = -np.inf\n",
        "best_p_loglikelihood_fine = None\n",
        "\n",
        "for p in release_probs_fine:\n",
        "    total_lik, total_log_lik = total_likelihood_loglikelihood(p, n, observations)\n",
        "    if total_log_lik > max_log_likelihood_fine:\n",
        "        max_log_likelihood_fine = total_log_lik\n",
        "        best_p_loglikelihood_fine = p\n",
        "\n",
        "print(f\"\\nWith higher resolution:\")\n",
        "print(f\"Max log-likelihood at p = {best_p_loglikelihood_fine:.3f} with log-likelihood = {max_log_likelihood_fine:.4f}\")"
      ],
      "metadata": {
        "id": "Qh_b_cWvM9Y_",
        "outputId": "a1d48293-639f-4540-af5e-91661f6b4b96",
        "colab": {
          "base_uri": "https://localhost:8080/"
        }
      },
      "execution_count": 3,
      "outputs": [
        {
          "output_type": "stream",
          "name": "stdout",
          "text": [
            "p_release  Total Likelihood    Total Log-Likelihood\n",
            "0.10       0.0000001238       -15.9047\n",
            "0.20       0.0001732843       -8.6606\n",
            "0.30       0.0045505754       -5.3925\n",
            "0.40       0.0189700313       -3.9649\n",
            "0.50       0.0223964676       -3.7989\n",
            "0.60       0.0084311250       -4.7758\n",
            "0.70       0.0008358200       -7.0871\n",
            "0.80       0.0000108303       -11.4332\n",
            "0.90       0.0000000015       -20.2992\n",
            "\n",
            "Max likelihood at p = 0.50 with likelihood = 0.0223964676\n",
            "Max log-likelihood at p = 0.50 with log-likelihood = -3.7989\n",
            "\n",
            "With higher resolution:\n",
            "Max log-likelihood at p = 0.460 with log-likelihood = -3.7284\n"
          ]
        }
      ]
    },
    {
      "cell_type": "code",
      "source": [
        "##OK now graphing it\n",
        "import numpy as np\n",
        "from scipy.stats import binom\n",
        "import matplotlib.pyplot as plt\n",
        "\n",
        "# Given:\n",
        "n = 14                        # total quanta per trial\n",
        "observations = [8, 5]         # two independent measurements\n",
        "\n",
        "def total_likelihood_loglikelihood(p, n, observations):\n",
        "    likelihoods = [binom.pmf(k, n, p) for k in observations]\n",
        "    total_likelihood = np.prod(likelihoods)\n",
        "    total_log_likelihood = np.sum(np.log(likelihoods))\n",
        "    return total_likelihood, total_log_likelihood\n",
        "\n",
        "# High-resolution range of p values (avoid 0 and 1 exactly to prevent log(0))\n",
        "release_probs = np.linspace(0.01, 0.99, 100)\n",
        "\n",
        "likelihoods = []\n",
        "log_likelihoods = []\n",
        "\n",
        "for p in release_probs:\n",
        "    total_lik, total_log_lik = total_likelihood_loglikelihood(p, n, observations)\n",
        "    likelihoods.append(total_lik)\n",
        "    log_likelihoods.append(total_log_lik)\n",
        "\n",
        "# Find max values and corresponding p\n",
        "max_lik_index = np.argmax(likelihoods)\n",
        "max_loglik_index = np.argmax(log_likelihoods)\n",
        "\n",
        "max_lik_p = release_probs[max_lik_index]\n",
        "max_loglik_p = release_probs[max_loglik_index]\n",
        "\n",
        "print(f\"Max likelihood at p = {max_lik_p:.3f} with likelihood = {likelihoods[max_lik_index]:.10f}\")\n",
        "print(f\"Max log-likelihood at p = {max_loglik_p:.3f} with log-likelihood = {log_likelihoods[max_loglik_index]:.4f}\")\n",
        "\n",
        "# Plotting\n",
        "plt.figure(figsize=(10, 5))\n",
        "\n",
        "# Plot likelihood\n",
        "plt.subplot(1, 2, 1)\n",
        "plt.plot(release_probs, likelihoods, label='Likelihood')\n",
        "plt.axvline(max_lik_p, color='red', linestyle='--', label=f'Max at p={max_lik_p:.3f}')\n",
        "plt.xlabel('Release Probability (p)')\n",
        "plt.ylabel('Total Likelihood')\n",
        "plt.title('Likelihood Function')\n",
        "plt.legend()\n",
        "\n",
        "# Plot log-likelihood\n",
        "plt.subplot(1, 2, 2)\n",
        "plt.plot(release_probs, log_likelihoods, label='Log-Likelihood', color='orange')\n",
        "plt.axvline(max_loglik_p, color='red', linestyle='--', label=f'Max at p={max_loglik_p:.3f}')\n",
        "plt.xlabel('Release Probability (p)')\n",
        "plt.ylabel('Total Log-Likelihood')\n",
        "plt.title('Log-Likelihood Function')\n",
        "plt.legend()\n",
        "\n",
        "plt.tight_layout()\n",
        "plt.show()\n"
      ],
      "metadata": {
        "id": "09EZ27MFNJo6",
        "outputId": "8ce2a4b5-800f-4d02-9c7f-3b282c6122e2",
        "colab": {
          "base_uri": "https://localhost:8080/",
          "height": 543
        }
      },
      "execution_count": 4,
      "outputs": [
        {
          "output_type": "stream",
          "name": "stdout",
          "text": [
            "Max likelihood at p = 0.465 with likelihood = 0.0240546546\n",
            "Max log-likelihood at p = 0.465 with log-likelihood = -3.7274\n"
          ]
        },
        {
          "output_type": "display_data",
          "data": {
            "text/plain": [
              "<Figure size 1000x500 with 2 Axes>"
            ],
            "image/png": "[encoded data removed]"
          },
          "metadata": {}
        }
      ]
    },
    {
      "cell_type": "markdown",
      "metadata": {
        "id": "GCN6aNp1N0nC"
      },
      "source": [
        "## Exercise 4\n",
        "\n",
        "You keep going and conduct 100 separate experiments and end up with these results:\n",
        "\n",
        "Measured releases\t| Count\n",
        "---------------- | -------\n",
        "0 | 0\n",
        "1 | 0\n",
        "2 | 3\n",
        "3 | 7\n",
        "4 | 10\n",
        "5 | 19\n",
        "6 | 26\n",
        "7 | 16\n",
        "8 | 16\n",
        "9 | 5\n",
        "10 | 5\n",
        "11 | 0\n",
        "12 | 0\n",
        "13 | 0\n",
        "14 | 0\n",
        "\n",
        "What is the most likely value of *p* (which we typically refer to as $\\hat{p}$, which is pronounced as \"p-hat\" and represents the maximum-likelihood estimate of a parameter in the population given our sample with a resolution of 0.01?\n",
        "\n",
        "BONUS: Use a fitting procedure to find $\\hat{p}$."
      ]
    },
    {
      "cell_type": "code",
      "source": [
        "import numpy as np\n",
        "from scipy.optimize import minimize_scalar\n",
        "\n",
        "# Data from the table\n",
        "measured = np.array([0,1,2,3,4,5,6,7,8,9,10,11,12,13,14])\n",
        "count = np.array([0,0,3,7,10,19,26,16,16,5,5,0,0,0,0])\n",
        "\n",
        "# Number of experiments\n",
        "num_experiments = count.sum()\n",
        "# Max possible trials per experiment\n",
        "n = measured.max()\n",
        "\n",
        "# Total successes across all experiments\n",
        "total_successes = np.sum(measured * count)\n",
        "\n",
        "# MLE p-hat\n",
        "p_hat = total_successes / (num_experiments * n)\n",
        "print(\"p-hat (direct MLE):\", round(p_hat, 2))\n",
        "\n",
        "# BONUS: Likelihood fit\n",
        "from scipy.stats import binom\n",
        "\n",
        "def neg_log_likelihood(p):\n",
        "    if p <= 0 or p >= 1:\n",
        "        return np.inf\n",
        "    ll = np.sum(count * np.log(binom.pmf(measured, n, p)))\n",
        "    return -ll\n",
        "\n",
        "res = minimize_scalar(neg_log_likelihood, bounds=(0,1), method='bounded')\n",
        "p_hat_fit = res.x\n",
        "print(\"p-hat (likelihood fit):\", round(p_hat_fit, 2))\n",
        "\n"
      ],
      "metadata": {
        "id": "vCi9IT52Ndfn",
        "outputId": "1307de5e-384a-457a-8265-362baed03340",
        "colab": {
          "base_uri": "https://localhost:8080/"
        }
      },
      "execution_count": 6,
      "outputs": [
        {
          "output_type": "stream",
          "name": "stdout",
          "text": [
            "p-hat (direct MLE): 0.44\n",
            "p-hat (likelihood fit): 0.44\n"
          ]
        }
      ]
    },
    {
      "cell_type": "markdown",
      "metadata": {
        "id": "9BZG29IBSo6E"
      },
      "source": [
        "## Exercise 5\n",
        "\n",
        "Let's say that you have run an exhaustive set of experiments on this synapse and have determined that the true release probability is 0.3 (within some very small tolerance). Now you want to test whether changing the temperature of the preparation affects the release probability. So you change the temperature, perform the experiment, and measure 7 quantal events for the same 14 available quanta. Compute $\\hat{p}$. Standard statistical inference now asks the question, what is the probability that you would have obtained that measurement given a Null Hypothesis of no effect? In this case, no effect corresponds to an unchanged value of the true release probability (i.e., its value remained at 0.3 even with the temperature change). What is the probability that you would have gotten that measurement if your Null Hypothesis were true? Can you conclude that temperature had an effect?"
      ]
    },
    {
      "cell_type": "code",
      "source": [
        "import numpy as np\n",
        "from scipy.stats import binom, binomtest\n",
        "\n",
        "# Parameters\n",
        "n = 14\n",
        "k = 7\n",
        "p_null = 0.3\n",
        "\n",
        "# 1. MLE estimate\n",
        "p_hat = k / n\n",
        "print(\"p-hat:\", p_hat)\n",
        "\n",
        "# 2. Probability of exactly 7 releases under H0\n",
        "prob_exact = binom.pmf(k, n, p_null)\n",
        "print(\"P(X=7 | H0):\", prob_exact)\n",
        "\n",
        "# 3. Binomial test (two-sided p-value)\n",
        "test = binomtest(k, n, p_null, alternative='two-sided')\n",
        "print(\"Two-sided p-value:\", test.pvalue)\n",
        "\n",
        "# (Optional) one-sided test if you only expect increase\n",
        "test_one_sided = binomtest(k, n, p_null, alternative='greater')\n",
        "print(\"One-sided p-value (increase only):\", test_one_sided.pvalue)\n"
      ],
      "metadata": {
        "id": "cD6IHOh7OiG1",
        "outputId": "9e1e28ec-1803-4579-aa74-bc836c4129de",
        "colab": {
          "base_uri": "https://localhost:8080/"
        }
      },
      "execution_count": 7,
      "outputs": [
        {
          "output_type": "stream",
          "name": "stdout",
          "text": [
            "p-hat: 0.5\n",
            "P(X=7 | H0): 0.06181335872712\n",
            "Two-sided p-value: 0.14075750626218989\n",
            "One-sided p-value (increase only): 0.09328189116275992\n"
          ]
        }
      ]
    },
    {
      "cell_type": "markdown",
      "metadata": {
        "id": "UFYyaeLwTb35"
      },
      "source": [
        "## Bonus Exercise\n",
        "\n",
        "These data are reproduced from Tables 1 and 2 of Johnson and Wernig. Note that *nx* indicates the number of trials (\"release events\") with *x* measured events. Each row is a separate experiment (don't worry about the ordering, which here is reproduced as it is in the paper).\n",
        "\n",
        "Temp (°C)\t| n0\t| n1\t| n2\t| n3\t| n4\t| n5+\n",
        "--- | --| --- | --- | --- | --- | ---\n",
        "4.0\t| 615\t| 206\t| 33\t| 2\t| 0\t| 0\n",
        "3.5\t| 604\t| 339\t| 94\t| 11\t| 2\t| 0\n",
        "0.0 | \t332\t| 126\t| 21\t| 1\t| 0\t| 0\n",
        "2.0\t| 573\t| 443\t| 154\t| 28\t| 2\t| 0\n",
        "6.5\t| 172\t| 176\t| 89\t| 12\t| 1\t| 0\n",
        "3.0\t| 80\t| 224\t| 200\t| 32\t| 4\t| 0\n",
        "\n",
        "You can probably already see that some experiments resulted in primarily zero or one events per trial (e.g., the top experiment), whereas others tended to have more events (e.g., the bottom experiment).\n",
        "\n",
        "Do the quantal event numbers follow a binomial distribution? If so, then that would lend support to the idea that the events are generated by a process that can be characterized in terms of the number of available quanta and the average probability of release of each quantum.\n",
        "\n",
        "Provide a qualitative answer to this question by comparing the empirical distributions (see the data table, above) to the predicted binomial distribution. To get the predicted distribution (i.e., the probabilities associated with each value of *k* from Eq. 1, given the release probability p and the number of available quanta *n*), you need to determine both *k* and *n* from the empirical measurements. To determine *p*, use Eq. 5 in the paper: $p=1-\\frac{\\sigma ^{2}}{m}$\n",
        "\n",
        "where $\\sigma ^{2}$ is the variance and *m* is the mean of the trial-by-trial counts that can be determined from the data. To determine *n*, compute *m*/*p* (because *m* = *n* x *p*).\n",
        "\n",
        "As an added bonus, also include the predicted Poisson distribution, which can be computed using only the mean number of events (*m*, described above).\n",
        "\n"
      ]
    },
    {
      "cell_type": "markdown",
      "metadata": {
        "id": "TxctXRrXQqv4"
      },
      "source": [
        "# Additional Resources\n",
        "\n",
        "Working with the binomial distribution in [Matlab](https://www.mathworks.com/help/stats/binomial-distribution.html), [R](https://www.rdocumentation.org/packages/stats/versions/3.3/topics/Binomial), and [Python](https://docs.scipy.org/doc/scipy/reference/generated/scipy.stats.binom.html)."
      ]
    },
    {
      "cell_type": "markdown",
      "metadata": {
        "id": "tteEm2Qlgbb3"
      },
      "source": [
        "# Credits\n",
        "\n",
        "Copyright 2021 by Joshua I. Gold, University of Pennsylvania"
      ]
    }
  ],
  "metadata": {
    "colab": {
      "collapsed_sections": [
        "pKIiY6p3GRFq",
        "bkVu6eGKIIiQ",
        "u3yXPCmMH2CH",
        "NPyYR5dgJ4Q9",
        "VveIEEiyLUSk",
        "eG7Kvl5pL4jf",
        "-INGaYFtM-Cp",
        "GCN6aNp1N0nC",
        "9BZG29IBSo6E",
        "UFYyaeLwTb35"
      ],
      "name": "Biomial Distribution",
      "provenance": []
    },
    "kernelspec": {
      "display_name": "Python 3",
      "name": "python3"
    },
    "language_info": {
      "name": "python"
    }
  },
  "nbformat": 4,
  "nbformat_minor": 0
}