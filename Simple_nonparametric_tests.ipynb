{
  "nbformat": 4,
  "nbformat_minor": 0,
  "metadata": {
    "colab": {
      "provenance": [],
      "authorship_tag": "ABX9TyMy8X3GzzJxgcdei4xNqTzi",
      "include_colab_link": true
    },
    "kernelspec": {
      "name": "python3",
      "display_name": "Python 3"
    },
    "language_info": {
      "name": "python"
    }
  },
  "cells": [
    {
      "cell_type": "markdown",
      "metadata": {
        "id": "view-in-github",
        "colab_type": "text"
      },
      "source": [
        "<a href=\"https://colab.research.google.com/github/mollyhealey3-stack/QNC-Tutorials/blob/main/Simple_nonparametric_tests.ipynb\" target=\"_parent\"><img src=\"https://colab.research.google.com/assets/colab-badge.svg\" alt=\"Open In Colab\"/></a>"
      ]
    },
    {
      "cell_type": "code",
      "execution_count": null,
      "metadata": {
        "id": "wONXVAnlehMt"
      },
      "outputs": [],
      "source": []
    },
    {
      "cell_type": "markdown",
      "source": [
        "Scenario 1:\n",
        "You are a behavioral geologist measuring the reaction time of rocks in response to a tone. Specifically, you want to compare the median reaction time of geodes, to that of limestone. You recruit 20 rocks per group, and run your reaction-time experiment. What test would you use to compare median reaction times between geodes and limestone, and why?\n",
        "\n",
        "I would use the Mann-Whitney U test because these are two independent groups (geodes and limestone)."
      ],
      "metadata": {
        "id": "YSxKeslxeoHk"
      }
    },
    {
      "cell_type": "markdown",
      "source": [
        "Scenario 2:\n",
        "You are a brilliant scientist working at a biotech firm developing a vaccine that reverses aging. Wow! To test the efficacy of the vaccine, you recruit 50 people, give them a course of your vaccine, and measure their age with a (very) special scale before and after treatment. You want to start by refuting the simple that that the participants' measured ages are not changed by the treatment. What test do you use and why?\n",
        "\n",
        "this data is paired, because the patients are tested before and after treatment. Because of this, I would use the Wilxicon signed-rank test."
      ],
      "metadata": {
        "id": "ZPKERyjqgO6K"
      }
    },
    {
      "cell_type": "markdown",
      "source": [
        "Scenario 3\n",
        "You are a neuroeconomist and believe you have developed a wearable device that can change consumer preferences about a given product. To test your device, you present product X to a group of 40 individuals, and ask them to fill out a survery assessing how much they like the product (larger score means they like it more). Then, you have the individuals wear the device, present product X, and assess how much they like of the product. You want to know if the device reliably increases, decreases, or does not affect their liking of product X. What test would you use and why? What result would indicate that their liking has increased?\n",
        "\n",
        "I would again use the Wilxicon signed-rank test because these samples are paired."
      ],
      "metadata": {
        "id": "iBG_OeFUgiAT"
      }
    }
  ]
}