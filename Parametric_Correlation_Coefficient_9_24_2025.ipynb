{
  "nbformat": 4,
  "nbformat_minor": 0,
  "metadata": {
    "colab": {
      "provenance": [],
      "authorship_tag": "ABX9TyP3EHd6PgXShZBLVnZSTuNM",
      "include_colab_link": true
    },
    "kernelspec": {
      "name": "python3",
      "display_name": "Python 3"
    },
    "language_info": {
      "name": "python"
    }
  },
  "cells": [
    {
      "cell_type": "markdown",
      "metadata": {
        "id": "view-in-github",
        "colab_type": "text"
      },
      "source": [
        "<a href=\"https://colab.research.google.com/github/mollyhealey3-stack/QNC-Tutorials/blob/main/Parametric_Correlation_Coefficient_9_24_2025.ipynb\" target=\"_parent\"><img src=\"https://colab.research.google.com/assets/colab-badge.svg\" alt=\"Open In Colab\"/></a>"
      ]
    },
    {
      "cell_type": "markdown",
      "source": [
        "Let's examine the relationship between these two measured variables:\n",
        "\n",
        "Wing length | Tail length\n",
        "--- | ---\n",
        "10.4 | 7.4\n",
        "10.8 | 7.6\n",
        "11.1 | 7.9\n",
        "10.2 | 7.2\n",
        "10.3 | 7.4\n",
        "10.2 | 7.1\n",
        "10.7 | 7.4\n",
        "10.5 | 7.2\n",
        "10.8 | 7.8\n",
        "11.2 | 7.7\n",
        "10.6 | 7.8\n",
        "11.4 | 8.3\n",
        "\n",
        "Assume Wing length is the $X$ variable and Tail Length is the $Y$ variable, both measured in cm."
      ],
      "metadata": {
        "id": "gwEUqpgl4fXA"
      }
    },
    {
      "cell_type": "markdown",
      "source": [
        "1. Plot X vs Y. Do they look related?\n"
      ],
      "metadata": {
        "id": "y4LhllYf4ni4"
      }
    },
    {
      "cell_type": "code",
      "execution_count": 4,
      "metadata": {
        "colab": {
          "base_uri": "https://localhost:8080/",
          "height": 467
        },
        "id": "YiuIEs8M4RDm",
        "outputId": "72e4983c-f488-4c90-e329-d27be0b3a46a"
      },
      "outputs": [
        {
          "output_type": "execute_result",
          "data": {
            "text/plain": [
              "Text(0, 0.5, 'Wing Length (cm)')"
            ]
          },
          "metadata": {},
          "execution_count": 4
        },
        {
          "output_type": "display_data",
          "data": {
            "text/plain": [
              "<Figure size 640x480 with 1 Axes>"
            ],
            "image/png": "[encoded data removed]"
          },
          "metadata": {}
        }
      ],
      "source": [
        "import numpy as np\n",
        "import scipy.stats as st\n",
        "import matplotlib.pyplot as plt\n",
        "\n",
        "wing_length = [10.4, 10.8, 11.1, 10.2, 10.3, 10.2, 10.7, 10.5, 10.8, 11.2, 10.6, 11.4]\n",
        "tail_length = [7.4, 7.6, 7.9, 7.2 ,7.4, 7.1, 7.4, 7.2, 7.8, 7.7, 7.8, 8.3]\n",
        "\n",
        "plt.plot(tail_length, wing_length, 'ko')\n",
        "plt.xlabel('Tail Length (cm)')\n",
        "plt.ylabel('Wing Length (cm)')"
      ]
    },
    {
      "cell_type": "markdown",
      "source": [
        "these two variables do appear to be correlated"
      ],
      "metadata": {
        "id": "UrWPQEy45Gkr"
      }
    },
    {
      "cell_type": "markdown",
      "source": [
        "##### 2\\. Calculate $r_{X,Y}$ and $r_{Y,X}$, first using the equations above and then using either the Python numpy funciton [corrcoef](https://numpy.org/doc/stable/reference/generated/numpy.corrcoef.html) or Matlab's built-in [corrcoef](https://www.mathworks.com/help/matlab/ref/corrcoef.html). Did you get the same answers?"
      ],
      "metadata": {
        "id": "u_Y-T2nO5QnI"
      }
    },
    {
      "cell_type": "code",
      "source": [
        "#calculated\n",
        "n             = np.size(wing_length)\n",
        "sample_mean_x = np.sum(wing_length)/n\n",
        "sample_mean_y = np.sum(tail_length)/n\n",
        "SSEX          = np.sum((wing_length - sample_mean_x) ** 2)\n",
        "SSEY          = np.sum((tail_length - sample_mean_y) ** 2)\n",
        "SCOVXY        = np.sum((wing_length - sample_mean_x)*(tail_length - sample_mean_y))\n",
        "rXY           = SCOVXY/(np.sqrt(SSEX)*np.sqrt(SSEY))\n",
        "rYX           = SCOVXY/(np.sqrt(SSEY)*np.sqrt(SSEX))\n",
        "\n",
        "# Use corrcoef\n",
        "corrcoef = np.corrcoef(wing_length, tail_length)\n",
        "\n",
        "print(f'rXY={rXY:.4f} (calculated), {corrcoef[0,1]:.4f} (corrcoef)')\n",
        "print(f'rYX={rYX:.4f} (calculated), {corrcoef[1,0]:.4f} (corrcoef)')"
      ],
      "metadata": {
        "colab": {
          "base_uri": "https://localhost:8080/"
        },
        "id": "tjAwzNHE4yi3",
        "outputId": "270096c9-08f3-4718-94e9-93d1629ed314"
      },
      "execution_count": 6,
      "outputs": [
        {
          "output_type": "stream",
          "name": "stdout",
          "text": [
            "rXY=0.8704 (calculated), 0.8704 (corrcoef)\n",
            "rYX=0.8704 (calculated), 0.8704 (corrcoef)\n"
          ]
        }
      ]
    },
    {
      "cell_type": "markdown",
      "source": [
        "##### 3\\. What is the standard error of $r_{X,Y}$? The 95% confidence intervals computed from the standard error?"
      ],
      "metadata": {
        "id": "t7x46N1L63b4"
      }
    },
    {
      "cell_type": "code",
      "source": [
        "import numpy as np\n",
        "\n",
        "# Data\n",
        "wing = np.array([10.4, 10.8, 11.1, 10.2, 10.3, 10.2, 10.7, 10.5, 10.8, 11.2, 10.6, 11.4])\n",
        "tail = np.array([7.4, 7.6, 7.9, 7.2, 7.4, 7.1, 7.4, 7.2, 7.8, 7.7, 7.8, 8.3])\n",
        "\n",
        "# Sample size\n",
        "n = len(wing)\n",
        "\n",
        "# Correlation coefficient\n",
        "r = np.corrcoef(wing, tail)[0, 1]\n",
        "\n",
        "# Standard error of r\n",
        "se_r = np.sqrt((1 - r**2) / (n - 2))\n",
        "\n",
        "# 95% CI using Fisher z-transform\n",
        "z = np.arctanh(r)  # Fisher transformation\n",
        "se_z = 1 / np.sqrt(n - 3)\n",
        "z_crit = 1.96  # for 95% CI\n",
        "z_ci = [z - z_crit * se_z, z + z_crit * se_z]\n",
        "r_ci = [np.tanh(z_ci[0]), np.tanh(z_ci[1])]\n",
        "\n",
        "print(\"Correlation r =\", r)\n",
        "print(\"Standard error of r =\", se_r)\n",
        "print(f\"95% CI for r = [{r_ci[0]:.3f}, {r_ci[1]:.3f}]\")\n"
      ],
      "metadata": {
        "colab": {
          "base_uri": "https://localhost:8080/"
        },
        "id": "KfifyBZf6fZ-",
        "outputId": "9dccf474-83af-4414-b9d0-bf9cb9d4779d"
      },
      "execution_count": 8,
      "outputs": [
        {
          "output_type": "stream",
          "name": "stdout",
          "text": [
            "Correlation r = 0.8703545613058227\n",
            "Standard error of r = 0.15571863652567375\n",
            "95% CI for r = [0.592, 0.963]\n"
          ]
        }
      ]
    },
    {
      "cell_type": "markdown",
      "source": [
        "##### 4\\. Should the value of $r_{X,Y}$ be considered significant at the *p*<0.05 level, given a two-tailed test (i.e., we reject if the test statistic is too large on either tail of the null distribution) for $H_0: r_{X,Y}=0$?"
      ],
      "metadata": {
        "id": "BRB-pGvo7Y3C"
      }
    },
    {
      "cell_type": "code",
      "source": [
        "import numpy as np\n",
        "from scipy import stats\n",
        "\n",
        "# Data\n",
        "wing = np.array([10.4, 10.8, 11.1, 10.2, 10.3, 10.2, 10.7, 10.5, 10.8, 11.2, 10.6, 11.4])\n",
        "tail = np.array([7.4, 7.6, 7.9, 7.2, 7.4, 7.1, 7.4, 7.2, 7.8, 7.7, 7.8, 8.3])\n",
        "\n",
        "n = len(wing)\n",
        "\n",
        "# Sample correlation\n",
        "r = np.corrcoef(wing, tail)[0, 1]\n",
        "\n",
        "# Test statistic\n",
        "t_stat = r * np.sqrt((n - 2) / (1 - r**2))\n",
        "df = n - 2\n",
        "\n",
        "# Two-tailed p-value\n",
        "p_value = 2 * (1 - stats.t.cdf(abs(t_stat), df=df))\n",
        "\n",
        "print(f\"Correlation r = {r:.3f}\")\n",
        "print(f\"t-statistic = {t_stat:.3f}, df = {df}\")\n",
        "print(f\"p-value = {p_value:.5f}\")\n",
        "\n",
        "if p_value < 0.05:\n",
        "    print(\"Result: Significant at the 0.05 level → reject H0.\")\n",
        "else:\n",
        "    print(\"Result: Not significant at the 0.05 level → fail to reject H0.\")"
      ],
      "metadata": {
        "colab": {
          "base_uri": "https://localhost:8080/"
        },
        "id": "ZON9dkpd7DIG",
        "outputId": "7c13c622-e140-4ba3-af89-fbf88c095606"
      },
      "execution_count": 4,
      "outputs": [
        {
          "output_type": "stream",
          "name": "stdout",
          "text": [
            "Correlation r = 0.870\n",
            "t-statistic = 5.589, df = 10\n",
            "p-value = 0.00023\n",
            "Result: Significant at the 0.05 level → reject H0.\n"
          ]
        }
      ]
    },
    {
      "cell_type": "markdown",
      "source": [
        "##### 5\\. Yale does the exact same study and finds that his correlation value is 0.75. Is this the same as yours? That is, evaluate $𝐻_0: r=0.75$."
      ],
      "metadata": {
        "id": "c5K77QUpwIUS"
      }
    },
    {
      "cell_type": "code",
      "source": [
        "import numpy as np\n",
        "from scipy import stats as st\n",
        "\n",
        "# Your sample correlation\n",
        "r = 0.8703545613058227  # computed earlier\n",
        "n = 12\n",
        "\n",
        "# Fisher z-transform for your correlation\n",
        "z = np.arctanh(r)\n",
        "\n",
        "# Yale’s reported correlation\n",
        "r_Yale = 0.75\n",
        "z_Yale = 0.5 * np.log((1 + r_Yale) / (1 - r_Yale))\n",
        "\n",
        "# Standard error of z\n",
        "z_std = 1 / np.sqrt(n - 3)\n",
        "\n",
        "# Test statistic\n",
        "plambda = (z - z_Yale) / z_std\n",
        "\n",
        "# Two-tailed p-value\n",
        "prob2 = 2 * (1 - st.norm.cdf(abs(plambda)))\n",
        "\n",
        "print(f\"Test statistic = {plambda:.3f}\")\n",
        "print(f\"p = {prob2:.4f} for H0: r = 0.75\")\n"
      ],
      "metadata": {
        "colab": {
          "base_uri": "https://localhost:8080/"
        },
        "id": "EuW2Ffu6vt5R",
        "outputId": "29b2fc27-a57e-4904-bcd6-c0dc1b951db6"
      },
      "execution_count": 5,
      "outputs": [
        {
          "output_type": "stream",
          "name": "stdout",
          "text": [
            "Test statistic = 1.085\n",
            "p = 0.2780 for H0: r = 0.75\n"
          ]
        }
      ]
    },
    {
      "cell_type": "markdown",
      "source": [
        "##### 6\\. Finally, calculate the statistical power and sample size needed to reject $H_0:r=0\\:when\\:r\\ge 0.5$."
      ],
      "metadata": {
        "id": "2kEd73CRwOvX"
      }
    },
    {
      "cell_type": "code",
      "source": [
        "import numpy as np\n",
        "from scipy import stats as st\n",
        "from scipy.optimize import bisect\n",
        "\n",
        "alpha = 0.05\n",
        "r_true = 0.5\n",
        "n_current = 12\n",
        "\n",
        "def power_for_n(n, r=r_true, alpha=alpha):\n",
        "    z_effect = np.arctanh(r)\n",
        "    se_z = 1.0 / np.sqrt(n - 3)\n",
        "    z_alpha = st.norm.ppf(1 - alpha/2)\n",
        "    power = st.norm.cdf((z_effect / se_z) - z_alpha) + (1 - st.norm.cdf((z_effect / se_z) + z_alpha))\n",
        "    return power\n",
        "\n",
        "power_current = power_for_n(n_current)\n",
        "\n",
        "# find n giving 80% power\n",
        "target_power = 0.8\n",
        "required_n = int(np.ceil(bisect(lambda x: power_for_n(x) - target_power, 4.1, 1000.0)))\n",
        "\n",
        "print(\"Power at n=12:\", power_current)\n",
        "print(\"Required n for 80% power:\", required_n)"
      ],
      "metadata": {
        "colab": {
          "base_uri": "https://localhost:8080/"
        },
        "id": "IpH2jvhwwPJt",
        "outputId": "67a4fe0e-6938-47f9-b819-548160ac1a9c"
      },
      "execution_count": 6,
      "outputs": [
        {
          "output_type": "stream",
          "name": "stdout",
          "text": [
            "Power at n=12: 0.3776573058282629\n",
            "Required n for 80% power: 30\n"
          ]
        }
      ]
    },
    {
      "cell_type": "code",
      "source": [],
      "metadata": {
        "id": "oebk_KajwuRi"
      },
      "execution_count": null,
      "outputs": []
    }
  ]
}